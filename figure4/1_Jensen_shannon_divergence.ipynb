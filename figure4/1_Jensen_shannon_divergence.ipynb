{
 "cells": [
  {
   "cell_type": "markdown",
   "metadata": {},
   "source": [
    "# TF  jensen-shannon diverse\n",
    "\n",
    "\n",
    "__Author:__ Jingjing WANG\n",
    "\n",
    "__Date:__ Dec. 2021\n",
    "\n",
    "__Six Species:__ Xenopus"
   ]
  },
  {
   "cell_type": "code",
   "execution_count": 1,
   "metadata": {},
   "outputs": [
    {
     "name": "stdout",
     "output_type": "stream",
     "text": [
      "2022-01-04 20:56:18.844993\n"
     ]
    }
   ],
   "source": [
    "import time\n",
    "from datetime import datetime\n",
    "now=datetime.now()\n",
    "print(now)"
   ]
  },
  {
   "cell_type": "code",
   "execution_count": 1,
   "metadata": {
    "scrolled": true
   },
   "outputs": [],
   "source": [
    "import numpy as np\n",
    "import pandas as pd\n",
    "import scanpy as sc\n",
    "import os\n",
    "import glob\n",
    "import math"
   ]
  },
  {
   "cell_type": "code",
   "execution_count": 2,
   "metadata": {},
   "outputs": [],
   "source": [
    "os.chdir(\"/media/ggj/ggjlab2/LiaoYuan/github_scripts/figure4/TF_expr_data/\")"
   ]
  },
  {
   "cell_type": "code",
   "execution_count": 4,
   "metadata": {},
   "outputs": [
    {
     "data": {
      "text/plain": [
       "['St54_TF_expr.csv.gz',\n",
       " 'St66_TF_expr.csv.gz',\n",
       " 'St59_TF_expr.csv.gz',\n",
       " 'St48_TF_expr.csv.gz']"
      ]
     },
     "execution_count": 4,
     "metadata": {},
     "output_type": "execute_result"
    }
   ],
   "source": [
    "TPMlists=glob.glob(\"*_TF_expr.csv.gz\")\n",
    "TPMlists"
   ]
  },
  {
   "cell_type": "code",
   "execution_count": 8,
   "metadata": {},
   "outputs": [],
   "source": [
    "FOLDER='/media/ggj/ggjlab2/LiaoYuan/github_scripts/figure4/TF_expr_data/'\n",
    "FOLDER1='/media/ggj/ggjlab2/LiaoYuan/github_scripts/figure4/phenotype_data/'\n",
    "FOLDER2='/media/ggj/ggjlab2/LiaoYuan/github_scripts/figure4/bionary_data/'\n",
    "RESULT_FOLDER='/media/ggj/ggjlab2/LiaoYuan/github_scripts/figure4/result/'"
   ]
  },
  {
   "cell_type": "code",
   "execution_count": 9,
   "metadata": {},
   "outputs": [
    {
     "name": "stdout",
     "output_type": "stream",
     "text": [
      "St54\n",
      "St66\n",
      "St59\n",
      "St48\n"
     ]
    }
   ],
   "source": [
    "for TPMlist in TPMlists:\n",
    "    TPMlist1=TPMlist.split(\"_TF\")\n",
    "    DATASET_ID=TPMlist1[0]\n",
    "    print(DATASET_ID)"
   ]
  },
  {
   "cell_type": "code",
   "execution_count": 10,
   "metadata": {
    "scrolled": true
   },
   "outputs": [
    {
     "name": "stderr",
     "output_type": "stream",
     "text": [
      "WARNING: Some cells have total count of genes equal to zero\n",
      "WARNING: Some cells have total count of genes equal to zero\n",
      "WARNING: Some cells have total count of genes equal to zero\n",
      "WARNING: Some cells have total count of genes equal to zero\n"
     ]
    }
   ],
   "source": [
    "for TPMlist in TPMlists:\n",
    "    TPMlist1=TPMlist.split(\"_TF\")\n",
    "    DATASET_ID=TPMlist1[0]\n",
    "    \n",
    "    Adata_File = os.path.join(FOLDER, '{}_TF_expr.csv.gz'.format(DATASET_ID))\n",
    "    Meta_File = os.path.join(FOLDER1, '{}_TF_expr_pheno.csv.gz'.format(DATASET_ID))\n",
    "    Meta_File2 = os.path.join(FOLDER2, '{}_TF_expr_bionary.txt.gz'.format(DATASET_ID))\n",
    "    OUT_File1 = os.path.join(RESULT_FOLDER, '{}_TF_JSD.out'.format(DATASET_ID))\n",
    "    OUT_File2 = os.path.join(RESULT_FOLDER, '{}_TF_JSDR.out'.format(DATASET_ID))\n",
    "    \n",
    "    adata_SC = sc.read_csv(Adata_File).T\n",
    "    sc.pp.normalize_total(adata_SC, target_sum=1e4)\n",
    "    #adata_SC = sc.read_csv(Adata_File)\n",
    "    adata_SC_df = adata_SC.to_df().T\n",
    "    adata_SC_df.columns = adata_SC_df.columns.astype(\"str\")\n",
    "    adata_SC_df.index = adata_SC_df.index.astype(\"str\")\n",
    "    #adata_SC_df.shape\n",
    "    meta_SC = pd.read_csv(Meta_File,header=0,index_col=\"Cell\")\n",
    "    cell_index1 = adata_SC_df.columns.intersection(meta_SC.index)\n",
    "    #cell_index1.shape[0]\n",
    "    adata_SC_df_use = adata_SC_df\n",
    "    meta_SC2 = pd.read_table(Meta_File2,sep=\"\\t\")\n",
    "    Input1 = adata_SC_df_use # p matrix\n",
    "    Input2 = meta_SC2 # q matrix\n",
    "    Input1 = Input1.div(Input1.sum(axis=1),axis='rows')\n",
    "    Input2 = Input2.div(Input2.sum(axis=1),axis='rows')\n",
    "    JSD_list = []\n",
    "    JSDR_list = []\n",
    "    \n",
    "    for i in range(Input1.shape[0]):\n",
    "        for j in range(Input2.shape[0]):\n",
    "            p = np.asarray(Input1.iloc[i,:]) + np.spacing(1)\n",
    "            q = np.asarray(Input2.iloc[j,:]) + np.spacing(1)\n",
    "            M=(p+q)/2 + np.spacing(1)   \n",
    "            jsd_value=0.5*np.sum(p*np.log2(p/M))+0.5*np.sum(q*np.log2(q/M))\n",
    "            jsd_r = 1- math.sqrt(jsd_value)\n",
    "            JSD_list.append([Input1.index[i],Input2.index[j],jsd_value])\n",
    "            JSDR_list.append([Input1.index[i],Input2.index[j],jsd_r])\n",
    "        \n",
    "    JSD_pd = pd.DataFrame(JSD_list,columns=['Cell','Celltype','JSD'])\n",
    "    JSDR_pd = pd.DataFrame(JSDR_list,columns=['Cell','Celltype','JSDR'])\n",
    "    JSD_pd.to_csv(OUT_File1,index = 0,sep=\"\\t\")\n",
    "    JSDR_pd.to_csv(OUT_File2,index = 0,sep=\"\\t\")"
   ]
  },
  {
   "cell_type": "code",
   "execution_count": 22,
   "metadata": {},
   "outputs": [],
   "source": [
    "#DONE"
   ]
  },
  {
   "cell_type": "code",
   "execution_count": null,
   "metadata": {},
   "outputs": [],
   "source": []
  },
  {
   "cell_type": "code",
   "execution_count": null,
   "metadata": {},
   "outputs": [],
   "source": []
  }
 ],
 "metadata": {
  "jupytext": {
   "cell_metadata_filter": "fig.height,eval,fig.width,-all",
   "main_language": "R",
   "notebook_metadata_filter": "-all"
  },
  "kernelspec": {
   "display_name": "Python 3",
   "language": "python",
   "name": "python3"
  },
  "language_info": {
   "codemirror_mode": {
    "name": "ipython",
    "version": 3
   },
   "file_extension": ".py",
   "mimetype": "text/x-python",
   "name": "python",
   "nbconvert_exporter": "python",
   "pygments_lexer": "ipython3",
   "version": "3.8.5"
  },
  "latex_envs": {
   "LaTeX_envs_menu_present": true,
   "autoclose": false,
   "autocomplete": true,
   "bibliofile": "biblio.bib",
   "cite_by": "apalike",
   "current_citInitial": 1,
   "eqLabelWithNumbers": true,
   "eqNumInitial": 1,
   "hotkeys": {
    "equation": "Ctrl-E",
    "itemize": "Ctrl-I"
   },
   "labels_anchors": false,
   "latex_user_defs": false,
   "report_style_numbering": false,
   "user_envs_cfg": false
  },
  "toc": {
   "base_numbering": 1,
   "nav_menu": {},
   "number_sections": true,
   "sideBar": true,
   "skip_h1_title": false,
   "title_cell": "Table of Contents",
   "title_sidebar": "Contents",
   "toc_cell": false,
   "toc_position": {
    "height": "calc(100% - 180px)",
    "left": "10px",
    "top": "150px",
    "width": "326.594px"
   },
   "toc_section_display": true,
   "toc_window_display": true
  }
 },
 "nbformat": 4,
 "nbformat_minor": 2
}
