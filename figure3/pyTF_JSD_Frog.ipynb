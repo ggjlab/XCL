{
 "cells": [
  {
   "cell_type": "markdown",
   "metadata": {},
   "source": [
    "# TF  jensen-shannon diverse\n"
   ]
  },
  {
   "cell_type": "code",
   "execution_count": null,
   "metadata": {
    "scrolled": true
   },
   "outputs": [],
   "source": [
    "import numpy as np\n",
    "import pandas as pd\n",
    "import scanpy as sc\n"
   ]
  },
  {
   "cell_type": "code",
   "execution_count": 3,
   "metadata": {},
   "outputs": [],
   "source": [
    "Adata_File = './Frog.h5ad'\n",
    "Meta_File = './Frog_anno.txt' # contain four columns: Cell , Species, Celltype and Cellcluster.\n",
    "Meta_File2 = './Frog_annotation_bionary.txt' # contain binary result with row cell lineage and column cellname.\n",
    "TF_File    = './Frog_TF.txt'\n",
    "OUT_File1  = 'TF_JSD.out'\n",
    "OUT_File2  = 'TF_JSDR.out'"
   ]
  },
  {
   "cell_type": "code",
   "execution_count": null,
   "metadata": {},
   "outputs": [],
   "source": [
    "adata_SC = sc.read_h5ad(Adata_File)\n",
    "adata_SC_df = adata_SC.to_df().T\n",
    "adata_SC_df.columns = adata_SC_df.columns.astype(\"str\")\n",
    "adata_SC_df.index = adata_SC_df.index.astype(\"str\")\n",
    "adata_SC_df.shape"
   ]
  },
  {
   "cell_type": "code",
   "execution_count": null,
   "metadata": {},
   "outputs": [],
   "source": [
    "meta_SC = pd.read_table(Meta_File,sep=\"\\t\",header=0,index_col=\"Cell\")\n",
    "cell_index1 = adata_SC_df.columns.intersection(meta_SC.index)\n",
    "cell_index1.shape[0]"
   ]
  },
  {
   "cell_type": "code",
   "execution_count": null,
   "metadata": {},
   "outputs": [],
   "source": [
    "TF_S = pd.read_table(TF_File,sep=\"\\t\",header=0)\n",
    "TF_S.shape"
   ]
  },
  {
   "cell_type": "code",
   "execution_count": null,
   "metadata": {},
   "outputs": [],
   "source": [
    "TF_S[:2]"
   ]
  },
  {
   "cell_type": "code",
   "execution_count": null,
   "metadata": {},
   "outputs": [],
   "source": [
    "gene_index = adata_SC_df.index.intersection(TF_S['Symbol']) ##CHECK\n",
    "gene_index.shape"
   ]
  },
  {
   "cell_type": "code",
   "execution_count": 12,
   "metadata": {},
   "outputs": [],
   "source": [
    "adata_SC_df_use = adata_SC_df.loc[gene_index,:]"
   ]
  },
  {
   "cell_type": "code",
   "execution_count": 13,
   "metadata": {},
   "outputs": [],
   "source": [
    "meta_SC2 = pd.read_table(Meta_File2,sep=\"\\t\")\n",
    "#meta_SC2 = meta_SC2.loc[:,cell_index]"
   ]
  },
  {
   "cell_type": "code",
   "execution_count": 14,
   "metadata": {},
   "outputs": [],
   "source": [
    "Input1 = adata_SC_df_use # p matrix\n",
    "Input2 = meta_SC2 # q matrix"
   ]
  },
  {
   "cell_type": "code",
   "execution_count": 15,
   "metadata": {},
   "outputs": [],
   "source": [
    "Input1 = Input1.div(Input1.sum(axis=1),axis='rows')\n",
    "Input2 = Input2.div(Input2.sum(axis=1),axis='rows')"
   ]
  },
  {
   "cell_type": "code",
   "execution_count": null,
   "metadata": {},
   "outputs": [],
   "source": [
    "Input1.shape\n"
   ]
  },
  {
   "cell_type": "code",
   "execution_count": null,
   "metadata": {},
   "outputs": [],
   "source": [
    "Input2.shape"
   ]
  },
  {
   "cell_type": "code",
   "execution_count": 18,
   "metadata": {},
   "outputs": [],
   "source": [
    "JSD_list = []\n",
    "JSDR_list = []"
   ]
  },
  {
   "cell_type": "code",
   "execution_count": 19,
   "metadata": {},
   "outputs": [],
   "source": [
    "import math\n",
    "for i in range(Input1.shape[0]):\n",
    "    for j in range(Input2.shape[0]):\n",
    "        p = np.asarray(Input1.iloc[i,:]) + np.spacing(1)\n",
    "        q = np.asarray(Input2.iloc[j,:]) + np.spacing(1)\n",
    "        M=(p+q)/2 + np.spacing(1)   \n",
    "        jsd_value=0.5*np.sum(p*np.log2(p/M))+0.5*np.sum(q*np.log2(q/M))\n",
    "        jsd_r = 1- math.sqrt(jsd_value)\n",
    "        JSD_list.append([Input1.index[i],Input2.index[j],jsd_value])\n",
    "        JSDR_list.append([Input1.index[i],Input2.index[j],jsd_r])"
   ]
  },
  {
   "cell_type": "code",
   "execution_count": 20,
   "metadata": {},
   "outputs": [],
   "source": [
    "JSD_pd = pd.DataFrame(JSD_list,columns=['Cell','Celltype','JSD'])\n",
    "JSDR_pd = pd.DataFrame(JSDR_list,columns=['Cell','Celltype','JSDR'])"
   ]
  },
  {
   "cell_type": "code",
   "execution_count": 21,
   "metadata": {},
   "outputs": [],
   "source": [
    "JSD_pd.to_csv(OUT_File1,index = 0,sep=\"\\t\")\n",
    "JSDR_pd.to_csv(OUT_File2,index = 0,sep=\"\\t\")"
   ]
  },
  {
   "cell_type": "code",
   "execution_count": 22,
   "metadata": {},
   "outputs": [],
   "source": [
    "#end"
   ]
  },
  {
   "cell_type": "code",
   "execution_count": null,
   "metadata": {},
   "outputs": [],
   "source": []
  }
 ],
 "metadata": {
  "jupytext": {
   "cell_metadata_filter": "fig.height,eval,fig.width,-all",
   "main_language": "R",
   "notebook_metadata_filter": "-all"
  },
  "kernelspec": {
   "display_name": "Python 3",
   "language": "python",
   "name": "python3"
  },
  "language_info": {
   "codemirror_mode": {
    "name": "ipython",
    "version": 3
   },
   "file_extension": ".py",
   "mimetype": "text/x-python",
   "name": "python",
   "nbconvert_exporter": "python",
   "pygments_lexer": "ipython3",
   "version": "3.6.5"
  },
  "latex_envs": {
   "LaTeX_envs_menu_present": true,
   "autoclose": false,
   "autocomplete": true,
   "bibliofile": "biblio.bib",
   "cite_by": "apalike",
   "current_citInitial": 1,
   "eqLabelWithNumbers": true,
   "eqNumInitial": 1,
   "hotkeys": {
    "equation": "Ctrl-E",
    "itemize": "Ctrl-I"
   },
   "labels_anchors": false,
   "latex_user_defs": false,
   "report_style_numbering": false,
   "user_envs_cfg": false
  },
  "toc": {
   "base_numbering": 1,
   "nav_menu": {},
   "number_sections": true,
   "sideBar": true,
   "skip_h1_title": false,
   "title_cell": "Table of Contents",
   "title_sidebar": "Contents",
   "toc_cell": false,
   "toc_position": {
    "height": "calc(100% - 180px)",
    "left": "10px",
    "top": "150px",
    "width": "326.594px"
   },
   "toc_section_display": true,
   "toc_window_display": true
  }
 },
 "nbformat": 4,
 "nbformat_minor": 2
}
